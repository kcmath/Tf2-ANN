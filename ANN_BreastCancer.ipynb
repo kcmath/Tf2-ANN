{
  "nbformat": 4,
  "nbformat_minor": 0,
  "metadata": {
    "colab": {
      "name": "ANN - BreastCancer.ipynb",
      "provenance": [],
      "collapsed_sections": [],
      "authorship_tag": "ABX9TyP5ugpt2JhQ9SxiiiaH7gfC"
    },
    "kernelspec": {
      "name": "python3",
      "display_name": "Python 3"
    },
    "accelerator": "GPU"
  },
  "cells": [
    {
      "cell_type": "code",
      "metadata": {
        "id": "t5aXE4e_g98F",
        "colab_type": "code",
        "outputId": "3ff8e10d-bd0c-4793-bc0d-80d3dbe80dae",
        "colab": {
          "base_uri": "https://localhost:8080/",
          "height": 1000
        }
      },
      "source": [
        "# Install TensorFlow\n",
        "!pip install tensorflow-gpu\n",
        "\n",
        "try:\n",
        "  %tensorflow_version 2.x  # Colab only.\n",
        "except Exception:\n",
        "  pass\n",
        "\n",
        "import tensorflow as tf\n",
        "print(tf.__version__)\n",
        "print(tf.test.gpu_device_name())\n",
        "print(\"Num GPUs Available: \", len(tf.config.experimental.list_physical_devices('GPU')))"
      ],
      "execution_count": 0,
      "outputs": [
        {
          "output_type": "stream",
          "text": [
            "Collecting tensorflow-gpu\n",
            "\u001b[?25l  Downloading https://files.pythonhosted.org/packages/0a/93/c7bca39b23aae45cd2e85ad3871c81eccc63b9c5276e926511e2e5b0879d/tensorflow_gpu-2.1.0-cp36-cp36m-manylinux2010_x86_64.whl (421.8MB)\n",
            "\u001b[K     |████████████████████████████████| 421.8MB 43kB/s \n",
            "\u001b[?25hRequirement already satisfied: wheel>=0.26; python_version >= \"3\" in /usr/local/lib/python3.6/dist-packages (from tensorflow-gpu) (0.33.6)\n",
            "Requirement already satisfied: astor>=0.6.0 in /usr/local/lib/python3.6/dist-packages (from tensorflow-gpu) (0.8.1)\n",
            "Requirement already satisfied: google-pasta>=0.1.6 in /usr/local/lib/python3.6/dist-packages (from tensorflow-gpu) (0.1.8)\n",
            "Requirement already satisfied: wrapt>=1.11.1 in /usr/local/lib/python3.6/dist-packages (from tensorflow-gpu) (1.11.2)\n",
            "Requirement already satisfied: keras-preprocessing>=1.1.0 in /usr/local/lib/python3.6/dist-packages (from tensorflow-gpu) (1.1.0)\n",
            "Requirement already satisfied: protobuf>=3.8.0 in /usr/local/lib/python3.6/dist-packages (from tensorflow-gpu) (3.10.0)\n",
            "Requirement already satisfied: gast==0.2.2 in /usr/local/lib/python3.6/dist-packages (from tensorflow-gpu) (0.2.2)\n",
            "Requirement already satisfied: termcolor>=1.1.0 in /usr/local/lib/python3.6/dist-packages (from tensorflow-gpu) (1.1.0)\n",
            "Requirement already satisfied: keras-applications>=1.0.8 in /usr/local/lib/python3.6/dist-packages (from tensorflow-gpu) (1.0.8)\n",
            "Requirement already satisfied: numpy<2.0,>=1.16.0 in /usr/local/lib/python3.6/dist-packages (from tensorflow-gpu) (1.17.5)\n",
            "Requirement already satisfied: six>=1.12.0 in /usr/local/lib/python3.6/dist-packages (from tensorflow-gpu) (1.12.0)\n",
            "Collecting tensorboard<2.2.0,>=2.1.0\n",
            "\u001b[?25l  Downloading https://files.pythonhosted.org/packages/40/23/53ffe290341cd0855d595b0a2e7485932f473798af173bbe3a584b99bb06/tensorboard-2.1.0-py3-none-any.whl (3.8MB)\n",
            "\u001b[K     |████████████████████████████████| 3.8MB 53.6MB/s \n",
            "\u001b[?25hRequirement already satisfied: scipy==1.4.1; python_version >= \"3\" in /usr/local/lib/python3.6/dist-packages (from tensorflow-gpu) (1.4.1)\n",
            "Requirement already satisfied: opt-einsum>=2.3.2 in /usr/local/lib/python3.6/dist-packages (from tensorflow-gpu) (3.1.0)\n",
            "Collecting tensorflow-estimator<2.2.0,>=2.1.0rc0\n",
            "\u001b[?25l  Downloading https://files.pythonhosted.org/packages/18/90/b77c328a1304437ab1310b463e533fa7689f4bfc41549593056d812fab8e/tensorflow_estimator-2.1.0-py2.py3-none-any.whl (448kB)\n",
            "\u001b[K     |████████████████████████████████| 450kB 73.5MB/s \n",
            "\u001b[?25hRequirement already satisfied: absl-py>=0.7.0 in /usr/local/lib/python3.6/dist-packages (from tensorflow-gpu) (0.9.0)\n",
            "Requirement already satisfied: grpcio>=1.8.6 in /usr/local/lib/python3.6/dist-packages (from tensorflow-gpu) (1.15.0)\n",
            "Requirement already satisfied: setuptools in /usr/local/lib/python3.6/dist-packages (from protobuf>=3.8.0->tensorflow-gpu) (42.0.2)\n",
            "Requirement already satisfied: h5py in /usr/local/lib/python3.6/dist-packages (from keras-applications>=1.0.8->tensorflow-gpu) (2.8.0)\n",
            "Requirement already satisfied: requests<3,>=2.21.0 in /usr/local/lib/python3.6/dist-packages (from tensorboard<2.2.0,>=2.1.0->tensorflow-gpu) (2.21.0)\n",
            "Requirement already satisfied: markdown>=2.6.8 in /usr/local/lib/python3.6/dist-packages (from tensorboard<2.2.0,>=2.1.0->tensorflow-gpu) (3.1.1)\n",
            "Requirement already satisfied: google-auth-oauthlib<0.5,>=0.4.1 in /usr/local/lib/python3.6/dist-packages (from tensorboard<2.2.0,>=2.1.0->tensorflow-gpu) (0.4.1)\n",
            "Collecting google-auth<2,>=1.6.3\n",
            "\u001b[?25l  Downloading https://files.pythonhosted.org/packages/8d/5f/a1a02695b96d0e09c38abf7d1576b137979cea3d060d60891622cf61276d/google_auth-1.10.1-py2.py3-none-any.whl (76kB)\n",
            "\u001b[K     |████████████████████████████████| 81kB 13.0MB/s \n",
            "\u001b[?25hRequirement already satisfied: werkzeug>=0.11.15 in /usr/local/lib/python3.6/dist-packages (from tensorboard<2.2.0,>=2.1.0->tensorflow-gpu) (0.16.0)\n",
            "Requirement already satisfied: certifi>=2017.4.17 in /usr/local/lib/python3.6/dist-packages (from requests<3,>=2.21.0->tensorboard<2.2.0,>=2.1.0->tensorflow-gpu) (2019.11.28)\n",
            "Requirement already satisfied: chardet<3.1.0,>=3.0.2 in /usr/local/lib/python3.6/dist-packages (from requests<3,>=2.21.0->tensorboard<2.2.0,>=2.1.0->tensorflow-gpu) (3.0.4)\n",
            "Requirement already satisfied: idna<2.9,>=2.5 in /usr/local/lib/python3.6/dist-packages (from requests<3,>=2.21.0->tensorboard<2.2.0,>=2.1.0->tensorflow-gpu) (2.8)\n",
            "Requirement already satisfied: urllib3<1.25,>=1.21.1 in /usr/local/lib/python3.6/dist-packages (from requests<3,>=2.21.0->tensorboard<2.2.0,>=2.1.0->tensorflow-gpu) (1.24.3)\n",
            "Requirement already satisfied: requests-oauthlib>=0.7.0 in /usr/local/lib/python3.6/dist-packages (from google-auth-oauthlib<0.5,>=0.4.1->tensorboard<2.2.0,>=2.1.0->tensorflow-gpu) (1.3.0)\n",
            "Requirement already satisfied: pyasn1-modules>=0.2.1 in /usr/local/lib/python3.6/dist-packages (from google-auth<2,>=1.6.3->tensorboard<2.2.0,>=2.1.0->tensorflow-gpu) (0.2.7)\n",
            "Requirement already satisfied: cachetools<5.0,>=2.0.0 in /usr/local/lib/python3.6/dist-packages (from google-auth<2,>=1.6.3->tensorboard<2.2.0,>=2.1.0->tensorflow-gpu) (4.0.0)\n",
            "Requirement already satisfied: rsa<4.1,>=3.1.4 in /usr/local/lib/python3.6/dist-packages (from google-auth<2,>=1.6.3->tensorboard<2.2.0,>=2.1.0->tensorflow-gpu) (4.0)\n",
            "Requirement already satisfied: oauthlib>=3.0.0 in /usr/local/lib/python3.6/dist-packages (from requests-oauthlib>=0.7.0->google-auth-oauthlib<0.5,>=0.4.1->tensorboard<2.2.0,>=2.1.0->tensorflow-gpu) (3.1.0)\n",
            "Requirement already satisfied: pyasn1<0.5.0,>=0.4.6 in /usr/local/lib/python3.6/dist-packages (from pyasn1-modules>=0.2.1->google-auth<2,>=1.6.3->tensorboard<2.2.0,>=2.1.0->tensorflow-gpu) (0.4.8)\n",
            "\u001b[31mERROR: tensorflow 1.15.0 has requirement tensorboard<1.16.0,>=1.15.0, but you'll have tensorboard 2.1.0 which is incompatible.\u001b[0m\n",
            "\u001b[31mERROR: tensorflow 1.15.0 has requirement tensorflow-estimator==1.15.1, but you'll have tensorflow-estimator 2.1.0 which is incompatible.\u001b[0m\n",
            "\u001b[31mERROR: tensorboard 2.1.0 has requirement grpcio>=1.24.3, but you'll have grpcio 1.15.0 which is incompatible.\u001b[0m\n",
            "\u001b[31mERROR: google-colab 1.0.0 has requirement google-auth~=1.4.0, but you'll have google-auth 1.10.1 which is incompatible.\u001b[0m\n",
            "Installing collected packages: google-auth, tensorboard, tensorflow-estimator, tensorflow-gpu\n",
            "  Found existing installation: google-auth 1.4.2\n",
            "    Uninstalling google-auth-1.4.2:\n",
            "      Successfully uninstalled google-auth-1.4.2\n",
            "  Found existing installation: tensorboard 1.15.0\n",
            "    Uninstalling tensorboard-1.15.0:\n",
            "      Successfully uninstalled tensorboard-1.15.0\n",
            "  Found existing installation: tensorflow-estimator 1.15.1\n",
            "    Uninstalling tensorflow-estimator-1.15.1:\n",
            "      Successfully uninstalled tensorflow-estimator-1.15.1\n",
            "Successfully installed google-auth-1.10.1 tensorboard-2.1.0 tensorflow-estimator-2.1.0 tensorflow-gpu-2.1.0\n"
          ],
          "name": "stdout"
        },
        {
          "output_type": "display_data",
          "data": {
            "application/vnd.colab-display-data+json": {
              "pip_warning": {
                "packages": [
                  "google"
                ]
              }
            }
          },
          "metadata": {
            "tags": []
          }
        },
        {
          "output_type": "stream",
          "text": [
            "`%tensorflow_version` only switches the major version: `1.x` or `2.x`.\n",
            "You set: `2.x  # Colab only.`. This will be interpreted as: `2.x`.\n",
            "\n",
            "\n",
            "TensorFlow 2.x selected.\n",
            "2.1.0-rc1\n",
            "/device:GPU:0\n",
            "Num GPUs Available:  1\n"
          ],
          "name": "stdout"
        }
      ]
    },
    {
      "cell_type": "code",
      "metadata": {
        "id": "rQZfS_I9jkJa",
        "colab_type": "code",
        "outputId": "a5912d32-2470-468e-aeaf-e229b69ac2be",
        "colab": {
          "base_uri": "https://localhost:8080/",
          "height": 187
        }
      },
      "source": [
        "# Load in the data\n",
        "from sklearn.datasets import load_breast_cancer\n",
        "# load the data\n",
        "data = load_breast_cancer()\n",
        "# check the type of 'data'\n",
        "type(data)\n",
        "# note: it is a Bunch object\n",
        "# this basically acts like a dictionary where you can treat the keys like attributes\n",
        "data.keys()\n",
        "# 'data' (the attribute) means the input data\n",
        "data.data.shape\n",
        "# it has 569 samples, 30 features\n",
        "# 'targets'\n",
        "data.target\n",
        "# note how the targets are just 0s and 1s\n",
        "# normally, when you have K targets, they are labeled 0..K-1\n",
        "# their meaning is not lost\n",
        "data.target_names\n",
        "# there are also 569 corresponding targets\n",
        "data.target.shape\n",
        "# you can also determine the meaning of each feature\n",
        "data.feature_names"
      ],
      "execution_count": 0,
      "outputs": [
        {
          "output_type": "execute_result",
          "data": {
            "text/plain": [
              "array(['mean radius', 'mean texture', 'mean perimeter', 'mean area',\n",
              "       'mean smoothness', 'mean compactness', 'mean concavity',\n",
              "       'mean concave points', 'mean symmetry', 'mean fractal dimension',\n",
              "       'radius error', 'texture error', 'perimeter error', 'area error',\n",
              "       'smoothness error', 'compactness error', 'concavity error',\n",
              "       'concave points error', 'symmetry error',\n",
              "       'fractal dimension error', 'worst radius', 'worst texture',\n",
              "       'worst perimeter', 'worst area', 'worst smoothness',\n",
              "       'worst compactness', 'worst concavity', 'worst concave points',\n",
              "       'worst symmetry', 'worst fractal dimension'], dtype='<U23')"
            ]
          },
          "metadata": {
            "tags": []
          },
          "execution_count": 2
        }
      ]
    },
    {
      "cell_type": "code",
      "metadata": {
        "id": "tweurqzSj5Oo",
        "colab_type": "code",
        "colab": {}
      },
      "source": [
        "# normally we would put all of our imports at the top\n",
        "# but this lets us tell a story\n",
        "from sklearn.model_selection import train_test_split\n",
        "\n",
        "\n",
        "# split the data into train and test sets\n",
        "# this lets us simulate how our model will perform in the future\n",
        "X_train, X_test, y_train, y_test = train_test_split(data.data, data.target, test_size=0.33)\n",
        "N, D = X_train.shape"
      ],
      "execution_count": 0,
      "outputs": []
    },
    {
      "cell_type": "code",
      "metadata": {
        "id": "LQgYZNqRm9nw",
        "colab_type": "code",
        "colab": {}
      },
      "source": [
        "# Scale the data\n",
        "# you'll learn why scaling is needed in a later course\n",
        "from sklearn.preprocessing import StandardScaler\n",
        "\n",
        "scaler = StandardScaler()\n",
        "X_train = scaler.fit_transform(X_train)\n",
        "X_test = scaler.transform(X_test)"
      ],
      "execution_count": 0,
      "outputs": []
    },
    {
      "cell_type": "code",
      "metadata": {
        "id": "hiraAQkCj6uY",
        "colab_type": "code",
        "outputId": "ab03c37d-cc64-4478-d934-6bb3321e26dd",
        "colab": {
          "base_uri": "https://localhost:8080/",
          "height": 1000
        }
      },
      "source": [
        "# Now all the fun Tensorflow stuff\n",
        "# Build the model\n",
        "\n",
        "model = tf.keras.models.Sequential([\n",
        "  tf.keras.layers.Input(shape=(D,)),\n",
        "  tf.keras.layers.Dense(1, activation='sigmoid')\n",
        "])\n",
        "\n",
        "# Alternatively, you can do:\n",
        "# model = tf.keras.models.Sequential()\n",
        "# model.add(tf.keras.layers.Dense(1, input_shape=(D,), activation='sigmoid'))\n",
        "\n",
        "model.compile(optimizer='adam',\n",
        "              loss='binary_crossentropy',\n",
        "              metrics=['accuracy'])\n",
        "\n",
        "\n",
        "# Train the model\n",
        "r = model.fit(X_train, y_train, validation_data=(X_test, y_test), epochs=100)\n",
        "\n",
        "\n",
        "# Evaluate the model - evaluate() returns loss and accuracy\n",
        "print(\"Train score:\", model.evaluate(X_train, y_train))"
      ],
      "execution_count": 0,
      "outputs": [
        {
          "output_type": "stream",
          "text": [
            "Train on 381 samples, validate on 188 samples\n",
            "Epoch 1/100\n",
            "381/381 [==============================] - 2s 6ms/sample - loss: 0.6131 - accuracy: 0.7087 - val_loss: 0.5752 - val_accuracy: 0.7021\n",
            "Epoch 2/100\n",
            "381/381 [==============================] - 0s 131us/sample - loss: 0.5636 - accuracy: 0.7585 - val_loss: 0.5263 - val_accuracy: 0.7447\n",
            "Epoch 3/100\n",
            "381/381 [==============================] - 0s 128us/sample - loss: 0.5191 - accuracy: 0.7953 - val_loss: 0.4849 - val_accuracy: 0.7872\n",
            "Epoch 4/100\n",
            "381/381 [==============================] - 0s 125us/sample - loss: 0.4825 - accuracy: 0.8110 - val_loss: 0.4484 - val_accuracy: 0.8138\n",
            "Epoch 5/100\n",
            "381/381 [==============================] - 0s 167us/sample - loss: 0.4503 - accuracy: 0.8294 - val_loss: 0.4170 - val_accuracy: 0.8245\n",
            "Epoch 6/100\n",
            "381/381 [==============================] - 0s 140us/sample - loss: 0.4212 - accuracy: 0.8399 - val_loss: 0.3903 - val_accuracy: 0.8404\n",
            "Epoch 7/100\n",
            "381/381 [==============================] - 0s 134us/sample - loss: 0.3965 - accuracy: 0.8478 - val_loss: 0.3668 - val_accuracy: 0.8511\n",
            "Epoch 8/100\n",
            "381/381 [==============================] - 0s 124us/sample - loss: 0.3743 - accuracy: 0.8556 - val_loss: 0.3462 - val_accuracy: 0.8617\n",
            "Epoch 9/100\n",
            "381/381 [==============================] - 0s 131us/sample - loss: 0.3545 - accuracy: 0.8661 - val_loss: 0.3278 - val_accuracy: 0.8617\n",
            "Epoch 10/100\n",
            "381/381 [==============================] - 0s 125us/sample - loss: 0.3367 - accuracy: 0.8714 - val_loss: 0.3111 - val_accuracy: 0.8777\n",
            "Epoch 11/100\n",
            "381/381 [==============================] - 0s 126us/sample - loss: 0.3208 - accuracy: 0.8793 - val_loss: 0.2961 - val_accuracy: 0.8883\n",
            "Epoch 12/100\n",
            "381/381 [==============================] - 0s 143us/sample - loss: 0.3060 - accuracy: 0.8950 - val_loss: 0.2828 - val_accuracy: 0.8936\n",
            "Epoch 13/100\n",
            "381/381 [==============================] - 0s 126us/sample - loss: 0.2927 - accuracy: 0.9055 - val_loss: 0.2708 - val_accuracy: 0.9043\n",
            "Epoch 14/100\n",
            "381/381 [==============================] - 0s 152us/sample - loss: 0.2807 - accuracy: 0.9081 - val_loss: 0.2597 - val_accuracy: 0.9043\n",
            "Epoch 15/100\n",
            "381/381 [==============================] - 0s 130us/sample - loss: 0.2699 - accuracy: 0.9134 - val_loss: 0.2495 - val_accuracy: 0.9096\n",
            "Epoch 16/100\n",
            "381/381 [==============================] - 0s 124us/sample - loss: 0.2594 - accuracy: 0.9134 - val_loss: 0.2405 - val_accuracy: 0.9149\n",
            "Epoch 17/100\n",
            "381/381 [==============================] - 0s 148us/sample - loss: 0.2500 - accuracy: 0.9213 - val_loss: 0.2322 - val_accuracy: 0.9202\n",
            "Epoch 18/100\n",
            "381/381 [==============================] - 0s 133us/sample - loss: 0.2416 - accuracy: 0.9239 - val_loss: 0.2244 - val_accuracy: 0.9309\n",
            "Epoch 19/100\n",
            "381/381 [==============================] - 0s 127us/sample - loss: 0.2336 - accuracy: 0.9265 - val_loss: 0.2172 - val_accuracy: 0.9362\n",
            "Epoch 20/100\n",
            "381/381 [==============================] - 0s 132us/sample - loss: 0.2259 - accuracy: 0.9291 - val_loss: 0.2107 - val_accuracy: 0.9362\n",
            "Epoch 21/100\n",
            "381/381 [==============================] - 0s 131us/sample - loss: 0.2193 - accuracy: 0.9318 - val_loss: 0.2047 - val_accuracy: 0.9415\n",
            "Epoch 22/100\n",
            "381/381 [==============================] - 0s 132us/sample - loss: 0.2130 - accuracy: 0.9370 - val_loss: 0.1990 - val_accuracy: 0.9415\n",
            "Epoch 23/100\n",
            "381/381 [==============================] - 0s 119us/sample - loss: 0.2069 - accuracy: 0.9370 - val_loss: 0.1939 - val_accuracy: 0.9415\n",
            "Epoch 24/100\n",
            "381/381 [==============================] - 0s 135us/sample - loss: 0.2013 - accuracy: 0.9423 - val_loss: 0.1890 - val_accuracy: 0.9468\n",
            "Epoch 25/100\n",
            "381/381 [==============================] - 0s 123us/sample - loss: 0.1964 - accuracy: 0.9449 - val_loss: 0.1842 - val_accuracy: 0.9468\n",
            "Epoch 26/100\n",
            "381/381 [==============================] - 0s 139us/sample - loss: 0.1914 - accuracy: 0.9449 - val_loss: 0.1799 - val_accuracy: 0.9468\n",
            "Epoch 27/100\n",
            "381/381 [==============================] - 0s 115us/sample - loss: 0.1869 - accuracy: 0.9475 - val_loss: 0.1759 - val_accuracy: 0.9468\n",
            "Epoch 28/100\n",
            "381/381 [==============================] - 0s 132us/sample - loss: 0.1826 - accuracy: 0.9475 - val_loss: 0.1722 - val_accuracy: 0.9468\n",
            "Epoch 29/100\n",
            "381/381 [==============================] - 0s 130us/sample - loss: 0.1785 - accuracy: 0.9501 - val_loss: 0.1686 - val_accuracy: 0.9468\n",
            "Epoch 30/100\n",
            "381/381 [==============================] - 0s 134us/sample - loss: 0.1748 - accuracy: 0.9528 - val_loss: 0.1653 - val_accuracy: 0.9468\n",
            "Epoch 31/100\n",
            "381/381 [==============================] - 0s 131us/sample - loss: 0.1715 - accuracy: 0.9554 - val_loss: 0.1622 - val_accuracy: 0.9468\n",
            "Epoch 32/100\n",
            "381/381 [==============================] - 0s 145us/sample - loss: 0.1679 - accuracy: 0.9554 - val_loss: 0.1591 - val_accuracy: 0.9468\n",
            "Epoch 33/100\n",
            "381/381 [==============================] - 0s 151us/sample - loss: 0.1647 - accuracy: 0.9554 - val_loss: 0.1563 - val_accuracy: 0.9468\n",
            "Epoch 34/100\n",
            "381/381 [==============================] - 0s 124us/sample - loss: 0.1618 - accuracy: 0.9606 - val_loss: 0.1536 - val_accuracy: 0.9468\n",
            "Epoch 35/100\n",
            "381/381 [==============================] - 0s 136us/sample - loss: 0.1588 - accuracy: 0.9606 - val_loss: 0.1511 - val_accuracy: 0.9521\n",
            "Epoch 36/100\n",
            "381/381 [==============================] - 0s 124us/sample - loss: 0.1562 - accuracy: 0.9606 - val_loss: 0.1488 - val_accuracy: 0.9521\n",
            "Epoch 37/100\n",
            "381/381 [==============================] - 0s 138us/sample - loss: 0.1537 - accuracy: 0.9633 - val_loss: 0.1463 - val_accuracy: 0.9521\n",
            "Epoch 38/100\n",
            "381/381 [==============================] - 0s 122us/sample - loss: 0.1511 - accuracy: 0.9659 - val_loss: 0.1441 - val_accuracy: 0.9521\n",
            "Epoch 39/100\n",
            "381/381 [==============================] - 0s 135us/sample - loss: 0.1488 - accuracy: 0.9659 - val_loss: 0.1421 - val_accuracy: 0.9574\n",
            "Epoch 40/100\n",
            "381/381 [==============================] - 0s 127us/sample - loss: 0.1465 - accuracy: 0.9659 - val_loss: 0.1401 - val_accuracy: 0.9574\n",
            "Epoch 41/100\n",
            "381/381 [==============================] - 0s 133us/sample - loss: 0.1444 - accuracy: 0.9659 - val_loss: 0.1383 - val_accuracy: 0.9574\n",
            "Epoch 42/100\n",
            "381/381 [==============================] - 0s 125us/sample - loss: 0.1424 - accuracy: 0.9659 - val_loss: 0.1364 - val_accuracy: 0.9574\n",
            "Epoch 43/100\n",
            "381/381 [==============================] - 0s 134us/sample - loss: 0.1405 - accuracy: 0.9685 - val_loss: 0.1347 - val_accuracy: 0.9574\n",
            "Epoch 44/100\n",
            "381/381 [==============================] - 0s 123us/sample - loss: 0.1387 - accuracy: 0.9711 - val_loss: 0.1329 - val_accuracy: 0.9574\n",
            "Epoch 45/100\n",
            "381/381 [==============================] - 0s 146us/sample - loss: 0.1368 - accuracy: 0.9711 - val_loss: 0.1313 - val_accuracy: 0.9574\n",
            "Epoch 46/100\n",
            "381/381 [==============================] - 0s 134us/sample - loss: 0.1351 - accuracy: 0.9711 - val_loss: 0.1298 - val_accuracy: 0.9628\n",
            "Epoch 47/100\n",
            "381/381 [==============================] - 0s 129us/sample - loss: 0.1334 - accuracy: 0.9711 - val_loss: 0.1283 - val_accuracy: 0.9628\n",
            "Epoch 48/100\n",
            "381/381 [==============================] - 0s 132us/sample - loss: 0.1320 - accuracy: 0.9711 - val_loss: 0.1270 - val_accuracy: 0.9628\n",
            "Epoch 49/100\n",
            "381/381 [==============================] - 0s 121us/sample - loss: 0.1304 - accuracy: 0.9711 - val_loss: 0.1255 - val_accuracy: 0.9628\n",
            "Epoch 50/100\n",
            "381/381 [==============================] - 0s 125us/sample - loss: 0.1289 - accuracy: 0.9711 - val_loss: 0.1242 - val_accuracy: 0.9628\n",
            "Epoch 51/100\n",
            "381/381 [==============================] - 0s 136us/sample - loss: 0.1275 - accuracy: 0.9711 - val_loss: 0.1228 - val_accuracy: 0.9628\n",
            "Epoch 52/100\n",
            "381/381 [==============================] - 0s 125us/sample - loss: 0.1261 - accuracy: 0.9711 - val_loss: 0.1216 - val_accuracy: 0.9628\n",
            "Epoch 53/100\n",
            "381/381 [==============================] - 0s 158us/sample - loss: 0.1248 - accuracy: 0.9711 - val_loss: 0.1203 - val_accuracy: 0.9628\n",
            "Epoch 54/100\n",
            "381/381 [==============================] - 0s 124us/sample - loss: 0.1235 - accuracy: 0.9711 - val_loss: 0.1192 - val_accuracy: 0.9628\n",
            "Epoch 55/100\n",
            "381/381 [==============================] - 0s 127us/sample - loss: 0.1223 - accuracy: 0.9711 - val_loss: 0.1181 - val_accuracy: 0.9628\n",
            "Epoch 56/100\n",
            "381/381 [==============================] - 0s 129us/sample - loss: 0.1211 - accuracy: 0.9711 - val_loss: 0.1170 - val_accuracy: 0.9628\n",
            "Epoch 57/100\n",
            "381/381 [==============================] - 0s 132us/sample - loss: 0.1200 - accuracy: 0.9738 - val_loss: 0.1159 - val_accuracy: 0.9628\n",
            "Epoch 58/100\n",
            "381/381 [==============================] - 0s 131us/sample - loss: 0.1189 - accuracy: 0.9738 - val_loss: 0.1150 - val_accuracy: 0.9628\n",
            "Epoch 59/100\n",
            "381/381 [==============================] - 0s 139us/sample - loss: 0.1178 - accuracy: 0.9738 - val_loss: 0.1140 - val_accuracy: 0.9628\n",
            "Epoch 60/100\n",
            "381/381 [==============================] - 0s 143us/sample - loss: 0.1168 - accuracy: 0.9738 - val_loss: 0.1128 - val_accuracy: 0.9628\n",
            "Epoch 61/100\n",
            "381/381 [==============================] - 0s 129us/sample - loss: 0.1158 - accuracy: 0.9738 - val_loss: 0.1120 - val_accuracy: 0.9628\n",
            "Epoch 62/100\n",
            "381/381 [==============================] - 0s 131us/sample - loss: 0.1148 - accuracy: 0.9738 - val_loss: 0.1110 - val_accuracy: 0.9628\n",
            "Epoch 63/100\n",
            "381/381 [==============================] - 0s 124us/sample - loss: 0.1138 - accuracy: 0.9738 - val_loss: 0.1101 - val_accuracy: 0.9628\n",
            "Epoch 64/100\n",
            "381/381 [==============================] - 0s 132us/sample - loss: 0.1130 - accuracy: 0.9738 - val_loss: 0.1093 - val_accuracy: 0.9628\n",
            "Epoch 65/100\n",
            "381/381 [==============================] - 0s 122us/sample - loss: 0.1121 - accuracy: 0.9738 - val_loss: 0.1084 - val_accuracy: 0.9628\n",
            "Epoch 66/100\n",
            "381/381 [==============================] - 0s 150us/sample - loss: 0.1112 - accuracy: 0.9738 - val_loss: 0.1076 - val_accuracy: 0.9628\n",
            "Epoch 67/100\n",
            "381/381 [==============================] - 0s 127us/sample - loss: 0.1104 - accuracy: 0.9738 - val_loss: 0.1069 - val_accuracy: 0.9628\n",
            "Epoch 68/100\n",
            "381/381 [==============================] - 0s 142us/sample - loss: 0.1096 - accuracy: 0.9738 - val_loss: 0.1062 - val_accuracy: 0.9628\n",
            "Epoch 69/100\n",
            "381/381 [==============================] - 0s 121us/sample - loss: 0.1088 - accuracy: 0.9738 - val_loss: 0.1053 - val_accuracy: 0.9628\n",
            "Epoch 70/100\n",
            "381/381 [==============================] - 0s 138us/sample - loss: 0.1079 - accuracy: 0.9738 - val_loss: 0.1046 - val_accuracy: 0.9628\n",
            "Epoch 71/100\n",
            "381/381 [==============================] - 0s 133us/sample - loss: 0.1072 - accuracy: 0.9738 - val_loss: 0.1039 - val_accuracy: 0.9628\n",
            "Epoch 72/100\n",
            "381/381 [==============================] - 0s 156us/sample - loss: 0.1065 - accuracy: 0.9738 - val_loss: 0.1032 - val_accuracy: 0.9628\n",
            "Epoch 73/100\n",
            "381/381 [==============================] - 0s 135us/sample - loss: 0.1058 - accuracy: 0.9738 - val_loss: 0.1025 - val_accuracy: 0.9628\n",
            "Epoch 74/100\n",
            "381/381 [==============================] - 0s 117us/sample - loss: 0.1051 - accuracy: 0.9738 - val_loss: 0.1018 - val_accuracy: 0.9628\n",
            "Epoch 75/100\n",
            "381/381 [==============================] - 0s 119us/sample - loss: 0.1044 - accuracy: 0.9738 - val_loss: 0.1012 - val_accuracy: 0.9628\n",
            "Epoch 76/100\n",
            "381/381 [==============================] - 0s 119us/sample - loss: 0.1037 - accuracy: 0.9738 - val_loss: 0.1006 - val_accuracy: 0.9628\n",
            "Epoch 77/100\n",
            "381/381 [==============================] - 0s 136us/sample - loss: 0.1031 - accuracy: 0.9738 - val_loss: 0.1000 - val_accuracy: 0.9681\n",
            "Epoch 78/100\n",
            "381/381 [==============================] - 0s 133us/sample - loss: 0.1025 - accuracy: 0.9738 - val_loss: 0.0994 - val_accuracy: 0.9681\n",
            "Epoch 79/100\n",
            "381/381 [==============================] - 0s 121us/sample - loss: 0.1019 - accuracy: 0.9738 - val_loss: 0.0987 - val_accuracy: 0.9681\n",
            "Epoch 80/100\n",
            "381/381 [==============================] - 0s 142us/sample - loss: 0.1013 - accuracy: 0.9738 - val_loss: 0.0981 - val_accuracy: 0.9681\n",
            "Epoch 81/100\n",
            "381/381 [==============================] - 0s 129us/sample - loss: 0.1007 - accuracy: 0.9738 - val_loss: 0.0976 - val_accuracy: 0.9681\n",
            "Epoch 82/100\n",
            "381/381 [==============================] - 0s 135us/sample - loss: 0.1001 - accuracy: 0.9738 - val_loss: 0.0971 - val_accuracy: 0.9681\n",
            "Epoch 83/100\n",
            "381/381 [==============================] - 0s 127us/sample - loss: 0.0995 - accuracy: 0.9738 - val_loss: 0.0965 - val_accuracy: 0.9681\n",
            "Epoch 84/100\n",
            "381/381 [==============================] - 0s 135us/sample - loss: 0.0990 - accuracy: 0.9738 - val_loss: 0.0960 - val_accuracy: 0.9681\n",
            "Epoch 85/100\n",
            "381/381 [==============================] - 0s 124us/sample - loss: 0.0985 - accuracy: 0.9738 - val_loss: 0.0955 - val_accuracy: 0.9681\n",
            "Epoch 86/100\n",
            "381/381 [==============================] - 0s 118us/sample - loss: 0.0979 - accuracy: 0.9738 - val_loss: 0.0950 - val_accuracy: 0.9681\n",
            "Epoch 87/100\n",
            "381/381 [==============================] - 0s 147us/sample - loss: 0.0975 - accuracy: 0.9738 - val_loss: 0.0946 - val_accuracy: 0.9681\n",
            "Epoch 88/100\n",
            "381/381 [==============================] - 0s 124us/sample - loss: 0.0969 - accuracy: 0.9738 - val_loss: 0.0940 - val_accuracy: 0.9681\n",
            "Epoch 89/100\n",
            "381/381 [==============================] - 0s 137us/sample - loss: 0.0965 - accuracy: 0.9738 - val_loss: 0.0935 - val_accuracy: 0.9681\n",
            "Epoch 90/100\n",
            "381/381 [==============================] - 0s 125us/sample - loss: 0.0959 - accuracy: 0.9738 - val_loss: 0.0931 - val_accuracy: 0.9681\n",
            "Epoch 91/100\n",
            "381/381 [==============================] - 0s 136us/sample - loss: 0.0955 - accuracy: 0.9738 - val_loss: 0.0926 - val_accuracy: 0.9681\n",
            "Epoch 92/100\n",
            "381/381 [==============================] - 0s 147us/sample - loss: 0.0950 - accuracy: 0.9738 - val_loss: 0.0921 - val_accuracy: 0.9681\n",
            "Epoch 93/100\n",
            "381/381 [==============================] - 0s 133us/sample - loss: 0.0946 - accuracy: 0.9738 - val_loss: 0.0917 - val_accuracy: 0.9681\n",
            "Epoch 94/100\n",
            "381/381 [==============================] - 0s 123us/sample - loss: 0.0942 - accuracy: 0.9738 - val_loss: 0.0912 - val_accuracy: 0.9681\n",
            "Epoch 95/100\n",
            "381/381 [==============================] - 0s 133us/sample - loss: 0.0937 - accuracy: 0.9738 - val_loss: 0.0908 - val_accuracy: 0.9681\n",
            "Epoch 96/100\n",
            "381/381 [==============================] - 0s 122us/sample - loss: 0.0933 - accuracy: 0.9738 - val_loss: 0.0905 - val_accuracy: 0.9681\n",
            "Epoch 97/100\n",
            "381/381 [==============================] - 0s 166us/sample - loss: 0.0929 - accuracy: 0.9764 - val_loss: 0.0900 - val_accuracy: 0.9681\n",
            "Epoch 98/100\n",
            "381/381 [==============================] - 0s 132us/sample - loss: 0.0925 - accuracy: 0.9764 - val_loss: 0.0895 - val_accuracy: 0.9681\n",
            "Epoch 99/100\n",
            "381/381 [==============================] - 0s 143us/sample - loss: 0.0921 - accuracy: 0.9764 - val_loss: 0.0892 - val_accuracy: 0.9681\n",
            "Epoch 100/100\n",
            "381/381 [==============================] - 0s 130us/sample - loss: 0.0917 - accuracy: 0.9764 - val_loss: 0.0889 - val_accuracy: 0.9681\n",
            "381/381 [==============================] - 0s 65us/sample - loss: 0.0914 - accuracy: 0.9764\n",
            "Train score: [0.09140375604623259, 0.97637796]\n"
          ],
          "name": "stdout"
        }
      ]
    },
    {
      "cell_type": "code",
      "metadata": {
        "id": "JAUhuSFZj9hv",
        "colab_type": "code",
        "outputId": "76419e0c-4676-4500-8ed6-7d09e65b03ad",
        "colab": {
          "base_uri": "https://localhost:8080/",
          "height": 282
        }
      },
      "source": [
        "# Plot what's returned by model.fit()\n",
        "import matplotlib.pyplot as plt\n",
        "plt.plot(r.history['loss'], label='loss')\n",
        "plt.plot(r.history['val_loss'], label='val_loss')\n",
        "plt.legend()"
      ],
      "execution_count": 0,
      "outputs": [
        {
          "output_type": "execute_result",
          "data": {
            "text/plain": [
              "<matplotlib.legend.Legend at 0x7f2dec6970b8>"
            ]
          },
          "metadata": {
            "tags": []
          },
          "execution_count": 6
        },
        {
          "output_type": "display_data",
          "data": {
            "image/png": "[encoded data removed]",
            "text/plain": [
              "<Figure size 432x288 with 1 Axes>"
            ]
          },
          "metadata": {
            "tags": []
          }
        }
      ]
    },
    {
      "cell_type": "code",
      "metadata": {
        "id": "Hf7q_HJlnKvb",
        "colab_type": "code",
        "outputId": "c766a72a-c8a5-4a4f-8f72-9958ab69a23c",
        "colab": {
          "base_uri": "https://localhost:8080/",
          "height": 282
        }
      },
      "source": [
        "# Plot the accuracy too\n",
        "plt.plot(r.history['accuracy'], label='acc')\n",
        "plt.plot(r.history['val_accuracy'], label='val_acc')\n",
        "plt.legend()"
      ],
      "execution_count": 0,
      "outputs": [
        {
          "output_type": "execute_result",
          "data": {
            "text/plain": [
              "<matplotlib.legend.Legend at 0x7f2dec12fa20>"
            ]
          },
          "metadata": {
            "tags": []
          },
          "execution_count": 7
        },
        {
          "output_type": "display_data",
          "data": {
            "image/png": "[encoded data removed]",
            "text/plain": [
              "<Figure size 432x288 with 1 Axes>"
            ]
          },
          "metadata": {
            "tags": []
          }
        }
      ]
    },
    {
      "cell_type": "code",
      "metadata": {
        "id": "LvACYLmXnNXR",
        "colab_type": "code",
        "outputId": "b8a23919-6e0f-416d-ee96-b473b91eba1a",
        "colab": {
          "base_uri": "https://localhost:8080/",
          "height": 1000
        }
      },
      "source": [
        "# Make predictions\n",
        "P = model.predict(X_test)\n",
        "print(P) # they are outputs of the sigmoid, interpreted as probabilities p(y = 1 | x)\n",
        "# Round to get the actual predictions\n",
        "# Note: has to be flattened since the targets are size (N,) while the predictions are size (N,1)\n",
        "import numpy as np\n",
        "P = np.round(P).flatten()\n",
        "print(P)"
      ],
      "execution_count": 0,
      "outputs": [
        {
          "output_type": "stream",
          "text": [
            "[[1.2806179e-04]\n",
            " [9.9102449e-01]\n",
            " [9.1672784e-01]\n",
            " [3.4811813e-02]\n",
            " [8.6599487e-01]\n",
            " [7.5282723e-01]\n",
            " [8.1852245e-01]\n",
            " [9.9806815e-01]\n",
            " [9.9374855e-01]\n",
            " [1.7743609e-05]\n",
            " [2.4500322e-03]\n",
            " [3.3574356e-08]\n",
            " [1.2640113e-05]\n",
            " [9.9198192e-01]\n",
            " [1.4263123e-03]\n",
            " [9.1075182e-01]\n",
            " [8.7221354e-01]\n",
            " [9.6464789e-01]\n",
            " [6.8532139e-01]\n",
            " [4.5942251e-02]\n",
            " [5.1496018e-02]\n",
            " [5.8056408e-01]\n",
            " [3.5564930e-03]\n",
            " [9.9863917e-01]\n",
            " [3.6095020e-01]\n",
            " [6.3372403e-03]\n",
            " [4.1099051e-05]\n",
            " [2.4731928e-01]\n",
            " [9.9277836e-01]\n",
            " [9.7312647e-01]\n",
            " [4.0599811e-01]\n",
            " [9.9470490e-01]\n",
            " [2.9813364e-06]\n",
            " [6.3080561e-06]\n",
            " [9.8000127e-01]\n",
            " [2.5669765e-02]\n",
            " [6.1749822e-01]\n",
            " [9.7272867e-01]\n",
            " [2.2711237e-01]\n",
            " [9.9099416e-01]\n",
            " [9.9408913e-01]\n",
            " [9.9971777e-01]\n",
            " [4.1608964e-03]\n",
            " [1.0527220e-03]\n",
            " [5.4487400e-03]\n",
            " [7.9047614e-01]\n",
            " [1.8918942e-01]\n",
            " [9.9387097e-01]\n",
            " [9.7817802e-01]\n",
            " [9.5590049e-01]\n",
            " [9.7269475e-01]\n",
            " [9.7800839e-01]\n",
            " [8.3905703e-01]\n",
            " [9.9603015e-01]\n",
            " [1.3923978e-09]\n",
            " [2.6551622e-03]\n",
            " [9.8578358e-01]\n",
            " [9.9401456e-01]\n",
            " [5.4643694e-02]\n",
            " [4.3332539e-02]\n",
            " [9.8405266e-01]\n",
            " [9.8753113e-01]\n",
            " [5.1728803e-01]\n",
            " [9.9732912e-01]\n",
            " [2.0982464e-08]\n",
            " [9.7231174e-01]\n",
            " [3.7794596e-06]\n",
            " [9.8688459e-01]\n",
            " [9.9222589e-01]\n",
            " [9.9794441e-01]\n",
            " [2.6455620e-01]\n",
            " [9.9405128e-01]\n",
            " [1.3089929e-02]\n",
            " [3.4343946e-01]\n",
            " [9.5738220e-01]\n",
            " [9.1063982e-01]\n",
            " [3.6046647e-03]\n",
            " [4.1665721e-01]\n",
            " [9.9965107e-01]\n",
            " [9.9633563e-01]\n",
            " [9.8569703e-01]\n",
            " [3.3800546e-03]\n",
            " [3.4931210e-01]\n",
            " [9.8699063e-01]\n",
            " [9.0399250e-02]\n",
            " [9.9850428e-01]\n",
            " [2.7837745e-05]\n",
            " [9.9905854e-01]\n",
            " [2.8417071e-03]\n",
            " [2.6286356e-02]\n",
            " [6.8415666e-01]\n",
            " [9.0822887e-01]\n",
            " [9.5345104e-01]\n",
            " [1.9786915e-02]\n",
            " [9.5397180e-01]\n",
            " [7.5559515e-01]\n",
            " [9.7446287e-01]\n",
            " [9.9131763e-01]\n",
            " [9.9858022e-01]\n",
            " [3.7676969e-04]\n",
            " [9.6482388e-04]\n",
            " [9.5102647e-03]\n",
            " [8.6026639e-01]\n",
            " [6.6832020e-03]\n",
            " [9.0599769e-01]\n",
            " [9.8836398e-01]\n",
            " [9.5397866e-01]\n",
            " [1.4387479e-01]\n",
            " [8.9952471e-03]\n",
            " [5.2256940e-04]\n",
            " [4.2595927e-04]\n",
            " [9.9482590e-01]\n",
            " [2.8859039e-03]\n",
            " [9.9987888e-01]\n",
            " [1.7792110e-03]\n",
            " [9.9928266e-01]\n",
            " [9.8675019e-01]\n",
            " [9.7915274e-01]\n",
            " [4.7832972e-01]\n",
            " [9.2432714e-01]\n",
            " [9.8615396e-01]\n",
            " [9.1254389e-01]\n",
            " [9.8702687e-01]\n",
            " [9.9820638e-01]\n",
            " [9.9599177e-01]\n",
            " [9.9488246e-01]\n",
            " [9.7863072e-01]\n",
            " [2.0674616e-02]\n",
            " [9.7922301e-01]\n",
            " [9.6789372e-01]\n",
            " [9.9409217e-01]\n",
            " [6.3784764e-06]\n",
            " [2.4305107e-01]\n",
            " [9.9698716e-01]\n",
            " [7.8420383e-01]\n",
            " [9.9287558e-01]\n",
            " [9.9936455e-01]\n",
            " [9.8742050e-01]\n",
            " [9.9855918e-01]\n",
            " [7.9883721e-06]\n",
            " [9.9131763e-01]\n",
            " [9.5869827e-01]\n",
            " [8.0940539e-01]\n",
            " [9.5771027e-01]\n",
            " [9.9914289e-01]\n",
            " [6.1492026e-01]\n",
            " [2.4031668e-05]\n",
            " [6.7321646e-01]\n",
            " [9.8989701e-01]\n",
            " [3.8427379e-02]\n",
            " [9.9170965e-01]\n",
            " [9.8218590e-01]\n",
            " [9.6459174e-01]\n",
            " [9.9740160e-01]\n",
            " [7.3387074e-01]\n",
            " [9.8599201e-01]\n",
            " [9.9801433e-01]\n",
            " [9.9108082e-01]\n",
            " [6.7167491e-01]\n",
            " [9.9816340e-01]\n",
            " [7.5517136e-01]\n",
            " [1.0281456e-01]\n",
            " [9.2462260e-01]\n",
            " [9.3848652e-01]\n",
            " [9.9175078e-01]\n",
            " [9.9531859e-01]\n",
            " [9.7824889e-04]\n",
            " [7.9198435e-05]\n",
            " [9.9579018e-01]\n",
            " [9.7995126e-01]\n",
            " [9.6770477e-01]\n",
            " [3.0304776e-05]\n",
            " [9.6788466e-01]\n",
            " [9.9859029e-01]\n",
            " [9.9901283e-01]\n",
            " [9.4888252e-01]\n",
            " [2.2090501e-04]\n",
            " [3.6125594e-01]\n",
            " [1.6806088e-02]\n",
            " [9.4219893e-01]\n",
            " [9.9633336e-01]\n",
            " [5.7517052e-05]\n",
            " [9.1477424e-01]\n",
            " [9.8702061e-01]\n",
            " [6.5601914e-04]\n",
            " [9.9820018e-01]\n",
            " [9.9825221e-01]\n",
            " [9.1565514e-01]]\n",
            "[0. 1. 1. 0. 1. 1. 1. 1. 1. 0. 0. 0. 0. 1. 0. 1. 1. 1. 1. 0. 0. 1. 0. 1.\n",
            " 0. 0. 0. 0. 1. 1. 0. 1. 0. 0. 1. 0. 1. 1. 0. 1. 1. 1. 0. 0. 0. 1. 0. 1.\n",
            " 1. 1. 1. 1. 1. 1. 0. 0. 1. 1. 0. 0. 1. 1. 1. 1. 0. 1. 0. 1. 1. 1. 0. 1.\n",
            " 0. 0. 1. 1. 0. 0. 1. 1. 1. 0. 0. 1. 0. 1. 0. 1. 0. 0. 1. 1. 1. 0. 1. 1.\n",
            " 1. 1. 1. 0. 0. 0. 1. 0. 1. 1. 1. 0. 0. 0. 0. 1. 0. 1. 0. 1. 1. 1. 0. 1.\n",
            " 1. 1. 1. 1. 1. 1. 1. 0. 1. 1. 1. 0. 0. 1. 1. 1. 1. 1. 1. 0. 1. 1. 1. 1.\n",
            " 1. 1. 0. 1. 1. 0. 1. 1. 1. 1. 1. 1. 1. 1. 1. 1. 1. 0. 1. 1. 1. 1. 0. 0.\n",
            " 1. 1. 1. 0. 1. 1. 1. 1. 0. 0. 0. 1. 1. 0. 1. 1. 0. 1. 1. 1.]\n"
          ],
          "name": "stdout"
        }
      ]
    },
    {
      "cell_type": "code",
      "metadata": {
        "id": "G5IbMLX4nUJQ",
        "colab_type": "code",
        "outputId": "e139b543-7c05-429c-c85e-7ea760345d9e",
        "colab": {
          "base_uri": "https://localhost:8080/",
          "height": 68
        }
      },
      "source": [
        "# Calculate the accuracy, compare it to evaluate() output\n",
        "print(\"Manually calculated accuracy:\", np.mean(P == y_test))\n",
        "print(\"Evaluate output:\", model.evaluate(X_test, y_test))"
      ],
      "execution_count": 0,
      "outputs": [
        {
          "output_type": "stream",
          "text": [
            "Manually calculated accuracy: 0.9680851063829787\n",
            "188/188 [==============================] - 0s 84us/sample - loss: 0.0889 - accuracy: 0.9681\n",
            "Evaluate output: [0.0888901948136218, 0.9680851]\n"
          ],
          "name": "stdout"
        }
      ]
    },
    {
      "cell_type": "code",
      "metadata": {
        "id": "jwFSZTJMnWyI",
        "colab_type": "code",
        "outputId": "d287e624-7a00-4afc-e5cf-94343546891e",
        "colab": {
          "base_uri": "https://localhost:8080/",
          "height": 68
        }
      },
      "source": [
        "# Let's now save our model to a file\n",
        "model.save('linearclassifier.h5')\n",
        "# Check that the model file exists\n",
        "!ls -lh "
      ],
      "execution_count": 0,
      "outputs": [
        {
          "output_type": "stream",
          "text": [
            "total 24K\n",
            "-rw-r--r-- 1 root root  19K Jan 20 15:51 linearclassifier.h5\n",
            "drwxr-xr-x 1 root root 4.0K Jan 13 16:38 sample_data\n"
          ],
          "name": "stdout"
        }
      ]
    },
    {
      "cell_type": "code",
      "metadata": {
        "id": "ffmXXOEnnapw",
        "colab_type": "code",
        "outputId": "46107bb6-709c-46a0-b095-864c526a8ede",
        "colab": {
          "base_uri": "https://localhost:8080/",
          "height": 68
        }
      },
      "source": [
        "# Let's load the model and confirm that it still works\n",
        "# Note: there is a bug in Keras where load/save only works if you DON'T use the Input() layer explicitly\n",
        "# So, make sure you define the model with ONLY Dense(1, input_shape=(D,))\n",
        "# At least, until the bug is fixed\n",
        "# https://github.com/keras-team/keras/issues/10417\n",
        "model = tf.keras.models.load_model('linearclassifier.h5')\n",
        "print(model.layers)\n",
        "model.evaluate(X_test, y_test)"
      ],
      "execution_count": 0,
      "outputs": [
        {
          "output_type": "stream",
          "text": [
            "[<tensorflow.python.keras.layers.core.Dense object at 0x7f2dec05f160>]\n",
            "188/188 [==============================] - 0s 368us/sample - loss: 0.0889 - accuracy: 0.9681\n"
          ],
          "name": "stdout"
        },
        {
          "output_type": "execute_result",
          "data": {
            "text/plain": [
              "[0.0888901948136218, 0.9680851]"
            ]
          },
          "metadata": {
            "tags": []
          },
          "execution_count": 11
        }
      ]
    },
    {
      "cell_type": "code",
      "metadata": {
        "id": "M3QqlrYDndSJ",
        "colab_type": "code",
        "colab": {}
      },
      "source": [
        "# Download the file - requires Chrome (at this point)\n",
        "from google.colab import files\n",
        "files.download('linearclassifier.h5')"
      ],
      "execution_count": 0,
      "outputs": []
    }
  ]
}